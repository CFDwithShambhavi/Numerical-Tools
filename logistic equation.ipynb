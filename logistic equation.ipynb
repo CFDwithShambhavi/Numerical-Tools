{
 "cells": [
  {
   "cell_type": "code",
   "execution_count": 6,
   "metadata": {
    "collapsed": true
   },
   "outputs": [],
   "source": [
    "import numpy as np\n",
    "import matplotlib.pyplot as plt"
   ]
  },
  {
   "cell_type": "code",
   "execution_count": 23,
   "metadata": {
    "collapsed": true
   },
   "outputs": [],
   "source": [
    "def logistic(y_n0, a, b, delta_t):\n",
    "    \n",
    "    y_n1 = y_n0 + y_n0 * (a - b * y_n0) * delta_t\n",
    "    \n",
    "    return y_n1"
   ]
  },
  {
   "cell_type": "code",
   "execution_count": 74,
   "metadata": {},
   "outputs": [],
   "source": [
    "time = 400.0 # years\n",
    "t = 0.0\n",
    "delta_t = 10.0\n",
    "y_n0 = 1.\n",
    "a = 0.029443\n",
    "K = 100.0 # carrying capacity of environment\n",
    "b = a / K\n",
    "\n",
    "solution = []\n",
    "times = []\n",
    "\n",
    "while t < time:\n",
    "    \n",
    "    solution.append(y_n0)\n",
    "    times.append(t)\n",
    "    \n",
    "    y_n1 = logistic(y_n0, a, b, delta_t)\n",
    "    \n",
    "    y_n0 = y_n1\n",
    "        \n",
    "    t += delta_t\n",
    "    "
   ]
  },
  {
   "cell_type": "code",
   "execution_count": 75,
   "metadata": {},
   "outputs": [
    {
     "data": {
      "image/png": "[encoded data removed]",
      "text/plain": [
       "<matplotlib.figure.Figure at 0x110ee4400>"
      ]
     },
     "metadata": {},
     "output_type": "display_data"
    }
   ],
   "source": [
    "plt.figure(1)\n",
    "\n",
    "plt.plot(np.array(times), np.array(solution), 'b*', label = 'logistic curve')\n",
    "plt.xlabel('Time (years)')\n",
    "plt.ylabel('Population (million)')\n",
    "plt.show()"
   ]
  },
  {
   "cell_type": "code",
   "execution_count": null,
   "metadata": {
    "collapsed": true
   },
   "outputs": [],
   "source": []
  }
 ],
 "metadata": {
  "kernelspec": {
   "display_name": "Python 3",
   "language": "python",
   "name": "python3"
  },
  "language_info": {
   "codemirror_mode": {
    "name": "ipython",
    "version": 3
   },
   "file_extension": ".py",
   "mimetype": "text/x-python",
   "name": "python",
   "nbconvert_exporter": "python",
   "pygments_lexer": "ipython3",
   "version": "3.6.1"
  }
 },
 "nbformat": 4,
 "nbformat_minor": 2
}
